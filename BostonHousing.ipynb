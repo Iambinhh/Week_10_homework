{
  "nbformat": 4,
  "nbformat_minor": 0,
  "metadata": {
    "colab": {
      "provenance": [],
      "include_colab_link": true
    },
    "kernelspec": {
      "name": "python3",
      "display_name": "Python 3"
    },
    "language_info": {
      "name": "python"
    }
  },
  "cells": [
    {
      "cell_type": "markdown",
      "metadata": {
        "id": "view-in-github",
        "colab_type": "text"
      },
      "source": [
        "<a href=\"https://colab.research.google.com/github/Iambinhh/Week_10_homework/blob/main/BostonHousing.ipynb\" target=\"_parent\"><img src=\"https://colab.research.google.com/assets/colab-badge.svg\" alt=\"Open In Colab\"/></a>"
      ]
    },
    {
      "cell_type": "code",
      "execution_count": 1,
      "metadata": {
        "id": "6O9PZtu7m49N"
      },
      "outputs": [],
      "source": [
        "#https://keras.io/ko/getting-started/faq/#how-can-i-obtain-reproducible-results-using-keras-during-development\n",
        "\n",
        "import numpy as np\n",
        "import tensorflow as tf\n",
        "import random as rn\n",
        "from tensorflow as keras\n",
        "np.random.seed(42) # For starting core Python generated random numbers \n",
        "rn.seed(12345) # Random number generation in the TensorFlow backend \n",
        "tf.random.set_seed(1234) # Random number generation in the TensorFlow backend "
      ]
    },
    {
      "cell_type": "code",
      "source": [
        "#https://keras.io/api/datasets/boston_housing/#load_data-function\n",
        "#tf.keras.datasets.boston_housing.load_data(\n",
        "#    path=\"boston_housing.npz\", test_split=0.2, seed=113)\n",
        "# feature, target: median values of the houses in $1,000.\n",
        "from keras.datasets import boston_housing\n",
        "(train_ft, train_tg), (test_ft, test_tg) = boston_housing.load_data()"
      ],
      "metadata": {
        "id": "aOkl0wXRm_Us",
        "outputId": "d4f36681-f927-447c-e806-f856136d1732",
        "colab": {
          "base_uri": "https://localhost:8080/"
        }
      },
      "execution_count": 2,
      "outputs": [
        {
          "output_type": "stream",
          "name": "stdout",
          "text": [
            "Downloading data from https://storage.googleapis.com/tensorflow/tf-keras-datasets/boston_housing.npz\n",
            "57026/57026 [==============================] - 0s 2us/step\n"
          ]
        }
      ]
    },
    {
      "cell_type": "code",
      "source": [
        "print(f'train:test={len(train_ft)}:{len(test_ft)}')"
      ],
      "metadata": {
        "colab": {
          "base_uri": "https://localhost:8080/"
        },
        "id": "a8KJEoZ4nEA0",
        "outputId": "de250b5d-f4d3-4808-d2cb-60938060bac8"
      },
      "execution_count": 7,
      "outputs": [
        {
          "output_type": "stream",
          "name": "stdout",
          "text": [
            "train:test=404:102\n"
          ]
        }
      ]
    },
    {
      "cell_type": "code",
      "source": [
        "# m=[[1,2],     +----> axis=1\n",
        "#    [3,4]]    |\n",
        "#             axis=0\n",
        "ft_wise_mean = train_ft.mean(axis=0) # feature-wise mean(to know the variety from train and wise_man)\n",
        "train_ft -= ft_wise_mean\n",
        "ft_wise_std = train_ft.std(axis=0) # feature-wise std \n",
        "train_ft /= ft_wise_std\n",
        "#\n",
        "test_ft -= ft_wise_mean\n",
        "test_ft /= ft_wise_std"
      ],
      "metadata": {
        "id": "q-fbkeWQnG7M"
      },
      "execution_count": 14,
      "outputs": []
    },
    {
      "cell_type": "code",
      "source": [
        "num_features = len(train_ft[1])\n",
        "num_features # 13\n",
        "from keras.models import Sequential\n",
        "from keras.layers import Dropout, Dense\n",
        "def build_regression_model():\n",
        "    model = Sequential()\n",
        "    model.add( Dense(128, activation='relu') )\n",
        "    model.add( Dense(128, activation='relu') )\n",
        "    model.add( Dense(1))\n",
        "    model.compile(optimizer=tf.keras.optimizers.Adam(lr=0.001), loss='mse', metrics=['mae'])\n",
        "    return model\n"
      ],
      "metadata": {
        "id": "zdIib79CnJPU"
      },
      "execution_count": 29,
      "outputs": []
    },
    {
      "cell_type": "code",
      "source": [
        "# final training \n",
        "model = build_regression_model()\n",
        "model.fit(train_ft, train_tg,\n",
        "          epochs=130, batch_size=16, verbose=0)\n",
        "\n",
        "# evaluate\n",
        "test_mse_loss, test_mae_score = model.evaluate(test_ft, test_tg, \n",
        "                                              verbose=0)\n",
        "print(f'Mean Abs Error = ${test_mae_score*1000:.2f}')\n"
      ],
      "metadata": {
        "colab": {
          "base_uri": "https://localhost:8080/"
        },
        "id": "QBuoSVnWpOcH",
        "outputId": "048372ef-9fb7-4fd7-c060-484019c2cae1"
      },
      "execution_count": 30,
      "outputs": [
        {
          "output_type": "stream",
          "name": "stderr",
          "text": [
            "WARNING:absl:`lr` is deprecated in Keras optimizer, please use `learning_rate` or use the legacy optimizer, e.g.,tf.keras.optimizers.legacy.Adam.\n"
          ]
        },
        {
          "output_type": "stream",
          "name": "stdout",
          "text": [
            "Mean Abs Error = $2335.82\n"
          ]
        }
      ]
    }
  ]
}